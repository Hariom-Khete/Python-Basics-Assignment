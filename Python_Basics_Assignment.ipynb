{
  "nbformat": 4,
  "nbformat_minor": 0,
  "metadata": {
    "colab": {
      "provenance": []
    },
    "kernelspec": {
      "name": "python3",
      "display_name": "Python 3"
    },
    "language_info": {
      "name": "python"
    }
  },
  "cells": [
    {
      "cell_type": "markdown",
      "source": [
        "#Python Basics Assignment"
      ],
      "metadata": {
        "id": "5Q-Ms9HepFYQ"
      }
    },
    {
      "cell_type": "markdown",
      "source": [
        "1. What is Python, and why is it popular ?\n",
        "  - Python is a programming language which is used widely due to its simplicity , readability , vast libraries and huge active community .\n",
        "  It is also a cross platform language . It is quite popular due to its libraries and the community and hence is used in almost every AI ML models.\n",
        "\n",
        "2. What is an interpreter in Python ?\n",
        "  - An interpreter is a program that executes the code statement by statement from the file . Interpreters are fast and help to execute code in line by line manner.\n",
        "\n",
        "3. What are pre-defined keywords in Python?\n",
        "  - Keywords are words that have special meaning and they execute specific tasks why used in a code. Keywords must be avoided to be taken as variables. Several keywords used in python are : True , False, Try , if , else ,etc..\n",
        "\n",
        "4. Can keywords be used as variable names ?\n",
        "  - Keywords must not be used as variable names . Technically speaking , we can use keywords as variables but then that particular  keyword will stop functioning as a keyword and wont hold or operate on data it must do originally..\n",
        "\n",
        "5.  What is mutability in Python ?\n",
        "  - Mutability in python refers to data types being able to be manipulated after creation . If the data can be changed after creation then it is mutable data type such as lists and dictionaries whereas if the data cannot be manipulated then it is called immutable data type such as tuples and strings .\n",
        "\n",
        "6. Why are lists mutable, but tuples are immutable ?\n",
        "  - Lists are mutable because they are coded to store dynamic data whereas tuples are used to store static data or we can say constant data that must not change .Hence lists are mutable but tuples are immutable.\n",
        "7. What is the difference between “==” and “is” operators in Python ?\n",
        "  - In python , == operator is used to check either the value stored in a variable or any two values are same or not. Whereas \"is\" keyword is used to check if any two variables are referencing to same memory blockor address.\n",
        "8. What are logical operators in Python ?\n",
        "  - Logical operators are used to perform logical operation on binary or unary data . AND , OR are two binary logical operator we can use. NOT is a unary logical operator that returns value opposite to given value i.e , True if False and False if True.\n",
        "9. What is type casting in Python ?\n",
        "  - Type casting refers to changing data from one type to another if logically possible .\n",
        "    -   Implicit Type casting is automatically done when a variable is delcared or specific operator is used on data such as adding an int with a float will give float value\n",
        "    -  Explicit Type casting is done intentionally to convert data from one type to other such as int(\"12\") will give 12 as number.\n",
        "10. What is the difference between implicit and explicit type casting ?\n",
        "  -   Implicit Type casting is automatically done when a variable is delcared or specific operator is used on data such as adding an int with a float will give float value\n",
        "  -  Explicit Type casting is done intentionally to convert data from one type to other such as int(\"12\") will give 12 as number.\n",
        "  (I expalined same in 9th question so i copied it and pasted it here...i hope this wont deduct marks)\n",
        "11. What is the purpose of conditional statements in Python ?\n",
        "  - Conditional statements are used in python to check a condition and perform an action or task . in python we use if, if else , is elif else , conditional statements.\n",
        "12. How does the elif statement work ?\n",
        "  - Whenever the if condition is false then the flow of control transfers to elif statement if it exists. elif statement also checks its condition and if true , it will run its block of code wlse it will go to next elif statement if it exists and ultimately goes to else if no conditions are true..\n",
        "13.  What is the difference between for and while loops ?\n",
        "  - For loop is used to iterate the block of code for given a range .\n",
        "  - While loop runs until a condition is True and will break when break statement is met .\n",
        "14. Describe a scenario where a while loop is more suitable than a for loop .\n",
        "  - Suppose we want to make a program to check password... we can run a loop untill the user enters correct password.. and it wont break until and unless we add a break statement..\n"
      ],
      "metadata": {
        "id": "kwt4D7iApRkN"
      }
    },
    {
      "cell_type": "code",
      "execution_count": null,
      "metadata": {
        "id": "nAoBj4H_o0XB"
      },
      "outputs": [],
      "source": [
        "# 1. Write a Python program to print Hello, World!\n",
        "print(\"Hello,World !\")"
      ]
    },
    {
      "cell_type": "code",
      "source": [
        "# 2. Write a Python program that displays your name and age\n",
        "name = input(\"Enter name : \")\n",
        "age= int(input(\"Enter your age : \"))\n",
        "print(f\"My name is  : {name}\\nMy age is {age}\")"
      ],
      "metadata": {
        "id": "xGYghFUsyXcv"
      },
      "execution_count": null,
      "outputs": []
    },
    {
      "cell_type": "code",
      "source": [
        "# 3.  Write code to print all the pre-defined keywords in Python using the keyword library .\n",
        "import keyword\n",
        "print(\"The pre defined keywords are :\")\n",
        "print(keyword.kwlist)"
      ],
      "metadata": {
        "colab": {
          "base_uri": "https://localhost:8080/"
        },
        "id": "cJlLxruEy8h_",
        "outputId": "7932108e-d6f7-48e0-e7e1-3352067e67f5"
      },
      "execution_count": 8,
      "outputs": [
        {
          "output_type": "stream",
          "name": "stdout",
          "text": [
            "The pre defined keywords are :\n",
            "['False', 'None', 'True', 'and', 'as', 'assert', 'async', 'await', 'break', 'class', 'continue', 'def', 'del', 'elif', 'else', 'except', 'finally', 'for', 'from', 'global', 'if', 'import', 'in', 'is', 'lambda', 'nonlocal', 'not', 'or', 'pass', 'raise', 'return', 'try', 'while', 'with', 'yield']\n"
          ]
        }
      ]
    },
    {
      "cell_type": "code",
      "source": [
        "# 4. Write a program that checks if a given word is a Python keyword.\n",
        "word = input(\"Enter a word : \")\n",
        "if word in keyword.kwlist :\n",
        "  print(f\"{word} is a keyword\")\n",
        "else:\n",
        "  print(f\"{word} is not a keyword\")"
      ],
      "metadata": {
        "id": "p7AXnzDEzo7t"
      },
      "execution_count": null,
      "outputs": []
    },
    {
      "cell_type": "code",
      "source": [
        "# 5. Create a list and tuple in Python, and demonstrate how attempting to change an element works differently for each\n",
        "list1 = [1,2,3,4]\n",
        "tuple1 = (1,2,3,4)\n",
        "list1[0] = 10 # will run correctly\n",
        "print(list1)\n",
        "tuple1[0] = 10 # will throw error\n",
        "print(tuple1)"
      ],
      "metadata": {
        "id": "PYpYTgCX0Ut_"
      },
      "execution_count": null,
      "outputs": []
    },
    {
      "cell_type": "code",
      "source": [
        "# 6 and 7 .  Write a function to demonstrate the behavior of mutable and immutable arguments\n",
        "def  change_data (a , b) :\n",
        "  a += 100\n",
        "  b.append(100)\n",
        "a = 50\n",
        "b=[1,2,3,4]\n",
        "change_data(a,b)\n",
        "print(a,b)"
      ],
      "metadata": {
        "colab": {
          "base_uri": "https://localhost:8080/"
        },
        "id": "MiaKS5Dt0xfI",
        "outputId": "433d03da-cf2b-4cf7-af56-d56480aaa900"
      },
      "execution_count": 33,
      "outputs": [
        {
          "output_type": "stream",
          "name": "stdout",
          "text": [
            "50 [1, 2, 3, 4, 100]\n"
          ]
        }
      ]
    },
    {
      "cell_type": "code",
      "source": [
        "# 8. Write a program to demonstrate the use of logical operators\n",
        "a = True\n",
        "b = False\n",
        "c = a and b\n",
        "d = a or b\n",
        "e = not a\n",
        "print(c)\n",
        "print(d)\n",
        "print(e)\n"
      ],
      "metadata": {
        "id": "sr3a5DJZ2cEx"
      },
      "execution_count": null,
      "outputs": []
    },
    {
      "cell_type": "code",
      "source": [
        "# 9 . Write a Python program to convert user input from string to integer, float, and boolean types\n",
        "value = input(\"Enter a value : \")\n",
        "integer_value = int(value)\n",
        "float_value = float(value)\n",
        "boolean_value = bool(value)\n",
        "print(integer_value)\n",
        "print(float_value)\n",
        "print(boolean_value)"
      ],
      "metadata": {
        "id": "BAIQDVV73Roa"
      },
      "execution_count": null,
      "outputs": []
    },
    {
      "cell_type": "code",
      "source": [
        "# 10. Write code to demonstrate type casting with list elements\n",
        "list1 = [0,2,3,4]\n",
        "list2=[]\n",
        "list3=[]\n",
        "list4=[]\n",
        "for i in list1 :\n",
        "  list2.append(str(i))\n",
        "  list3.append(float(i))\n",
        "  list4.append(bool(i))\n",
        "print(list2)\n",
        "print(list3)\n",
        "print(list4)\n",
        "\n",
        "\n"
      ],
      "metadata": {
        "id": "Yu1IDKDF3vyj"
      },
      "execution_count": null,
      "outputs": []
    },
    {
      "cell_type": "code",
      "source": [
        "# 11. Write a program that checks if a number is positive, negative, or zero\n",
        "num = int(input(\"Enter a number : \"))\n",
        "if num == 0:\n",
        "  print(\"The number is zero\")\n",
        "elif num > 0:\n",
        "  print(\"The number is positive\")\n",
        "else :\n",
        "  print(\"The number is negative\")\n",
        "\n"
      ],
      "metadata": {
        "id": "pnPIaVVr5mlG"
      },
      "execution_count": null,
      "outputs": []
    },
    {
      "cell_type": "code",
      "source": [
        "# 12. Write a for loop to print numbers from 1 to 10\n",
        "for i in range(1,11):\n",
        "  print(i)"
      ],
      "metadata": {
        "id": "n2oiDjFG6H_F"
      },
      "execution_count": null,
      "outputs": []
    },
    {
      "cell_type": "code",
      "source": [
        "# 13.  Write a Python program to find the sum of all even numbers between 1 and 50\n",
        "sum = 0\n",
        "for i in range(1,51):\n",
        "  if i%2 == 0:\n",
        "    sum += i\n",
        "print(sum)"
      ],
      "metadata": {
        "id": "YeybFNgr6T9G"
      },
      "execution_count": null,
      "outputs": []
    },
    {
      "cell_type": "code",
      "source": [
        "# 14. Write a program to reverse a string using a while loop\n",
        "word = 'Hello World'\n",
        "a = ''\n",
        "for i in range (len(word)-1,0,-1):\n",
        "  a += word[i]\n",
        "print (a)"
      ],
      "metadata": {
        "id": "lnA7kRQT6mni"
      },
      "execution_count": null,
      "outputs": []
    },
    {
      "cell_type": "code",
      "source": [
        "# 15.  Write a Python program to calculate the factorial of a number provided by the user using a while loop\n",
        "num = int(input(\"Enter a number :\"))\n",
        "fact = 1\n",
        "while True :\n",
        "  if num == 0 :\n",
        "    break\n",
        "  fact *= num\n",
        "  num -= 1\n",
        "print(fact)"
      ],
      "metadata": {
        "id": "6xzGaADq7rwf"
      },
      "execution_count": null,
      "outputs": []
    }
  ]
}